{
 "cells": [
  {
   "cell_type": "code",
   "execution_count": 50,
   "metadata": {},
   "outputs": [],
   "source": [
    "import matplotlib.pyplot as plt\n",
    "import math\n",
    "import time\n",
    "import random\n",
    "import copy\n",
    "\n",
    "import numpy as np\n",
    "import copy\n",
    "import torch\n",
    "import cv2"
   ]
  },
  {
   "cell_type": "code",
   "execution_count": 104,
   "metadata": {},
   "outputs": [],
   "source": [
    "class Agent_Conv:\n",
    "    def __init__(self, num_input, layers, num_output):\n",
    "        assert type(layers)==type([]), \"Error with layers, give array of the number of layers\"\n",
    "        self.num_input = num_input  #set input number\n",
    "        self.num_output = num_output #set ooutput number\n",
    "        self.hidden=[]\n",
    "        last=num_input\n",
    "        self.num_genes=0\n",
    "        for layer in layers:\n",
    "            self.hidden.append(layer)\n",
    "            self.num_genes+=(last * layer)\n",
    "            last=layer\n",
    "        self.num_genes +=(self.hidden[-1]*num_output)+num_output\n",
    "        self.weights = None\n",
    "        self.hidden_weights=None\n",
    "        self.bias = None\n",
    "        print(\"Auto\",self.num_genes)\n",
    "    def set_genes(self, gene):\n",
    "        weight_idxs = self.num_input * self.hidden[0] #size of weights to hidden\n",
    "        current=weight_idxs\n",
    "        weights_idxs=[current] #start with end of last\n",
    "        for i in range(len(self.hidden)-1):\n",
    "            current+=self.hidden[i]*self.hidden[i+1] #calculate next idx for each layer\n",
    "            weights_idxs.append(current)\n",
    "        bias_idxs=None\n",
    "        weights_idxs.append(self.hidden[-1] * self.num_output + weights_idxs[-1]) #add last layer heading to output\n",
    "        bias_idxs = weights_idxs[-1]+ self.num_output #sizes of biases\n",
    "        w = gene[0 : weight_idxs].reshape(self.hidden[0], self.num_input)   #merge genes\n",
    "        ws=[]\n",
    "        for i in range(len(self.hidden)-1):\n",
    "            ws.append(gene[weights_idxs[i] : weights_idxs[i+1]].reshape(self.hidden[i+1], self.hidden[i]))\n",
    "        ws.append(gene[weights_idxs[-2] : weights_idxs[-1]].reshape(self.num_output, self.hidden[-1]))\n",
    "        b = gene[weights_idxs[-1]: bias_idxs].reshape(self.num_output,) #merge genes\n",
    "\n",
    "        self.weights = torch.from_numpy(w) #assign weights\n",
    "        self.hidden_weights=[]\n",
    "        for w in ws:\n",
    "            self.hidden_weights.append(torch.from_numpy(w))\n",
    "        self.bias = torch.from_numpy(b) #assign biases\n",
    "\n",
    "    def forward(self, x):\n",
    "        #create conv layer\n",
    "        print(len(self.weights))\n",
    "        m=torch.nn.Conv2d(1, 5, 1, stride=2, padding=3, bias=False)\n",
    "        x=x[np.newaxis, :, :]\n",
    "        x=x[:,:,:,np.newaxis]\n",
    "        x=m(torch.tensor(x).float())\n",
    "        H=len(x)\n",
    "        x=x.flatten()\n",
    "        print(x)\n",
    "        print(x.shape,self.weights.T.shape)\n",
    "        #x = torch.tensor(np.dot(self.weights.T.float(),x.detach().numpy()).flatten())\n",
    "        #run through forward layers\n",
    "        \n",
    "        for i in range(len(self.hidden_weights)-1):\n",
    "            x =torch.mm(x,self.hidden_weights[i].T.float()) #second layer\n",
    "        return torch.mm(x,self.hidden_weights[-1].T.float()) + self.bias #third layer\n",
    "    \n",
    "    def get_action(self, x):\n",
    "        vectors=[(1,1),(1,0),(0,1),(-1,-1),(-1,0),(0,-1),(-1,1),(1,-1)] #possible moves\n",
    "        arr=list(self.forward(x)[0])\n",
    "        ind=np.argmax(arr)\n",
    "        return vectors[ind]"
   ]
  },
  {
   "cell_type": "code",
   "execution_count": 105,
   "metadata": {},
   "outputs": [
    {
     "name": "stdout",
     "output_type": "stream",
     "text": [
      "Auto 460\n",
      "[[0.09071728 0.89048101 0.91653832 0.48596543 0.70704021]\n",
      " [0.90111468 0.94624615 0.50836628 0.73522498 0.26983969]\n",
      " [0.274328   0.65985784 0.51296762 0.36587234 0.39277505]\n",
      " [0.16635284 0.57445914 0.4890709  0.99624912 0.61081912]\n",
      " [0.73205754 0.94518278 0.36127143 0.3382349  0.18230279]]\n",
      "10\n"
     ]
    },
    {
     "ename": "RuntimeError",
     "evalue": "Given groups=1, weight of size [5, 1, 1, 1], expected input[1, 5, 5, 1] to have 1 channels, but got 5 channels instead",
     "output_type": "error",
     "traceback": [
      "\u001b[1;31m---------------------------------------------------------------------------\u001b[0m",
      "\u001b[1;31mRuntimeError\u001b[0m                              Traceback (most recent call last)",
      "\u001b[1;32md:\\Documents\\Computer Science\\Year 3\\Dissertation\\Simulation\\convTest.ipynb Cell 3'\u001b[0m in \u001b[0;36m<module>\u001b[1;34m\u001b[0m\n\u001b[0;32m      <a href='vscode-notebook-cell:/d%3A/Documents/Computer%20Science/Year%203/Dissertation/Simulation/convTest.ipynb#ch0000002?line=6'>7</a>\u001b[0m whegBot\u001b[39m.\u001b[39mset_genes(np\u001b[39m.\u001b[39mrandom\u001b[39m.\u001b[39mnormal(\u001b[39m0\u001b[39m, \u001b[39m0.5\u001b[39m, (whegBot\u001b[39m.\u001b[39mnum_genes)))\n\u001b[0;32m      <a href='vscode-notebook-cell:/d%3A/Documents/Computer%20Science/Year%203/Dissertation/Simulation/convTest.ipynb#ch0000002?line=7'>8</a>\u001b[0m \u001b[39mprint\u001b[39m(input_)\n\u001b[1;32m---> <a href='vscode-notebook-cell:/d%3A/Documents/Computer%20Science/Year%203/Dissertation/Simulation/convTest.ipynb#ch0000002?line=9'>10</a>\u001b[0m whegBot\u001b[39m.\u001b[39;49mget_action(input_)\n",
      "\u001b[1;32md:\\Documents\\Computer Science\\Year 3\\Dissertation\\Simulation\\convTest.ipynb Cell 2'\u001b[0m in \u001b[0;36mAgent_Conv.get_action\u001b[1;34m(self, x)\u001b[0m\n\u001b[0;32m     <a href='vscode-notebook-cell:/d%3A/Documents/Computer%20Science/Year%203/Dissertation/Simulation/convTest.ipynb#ch0000001?line=58'>59</a>\u001b[0m \u001b[39mdef\u001b[39;00m \u001b[39mget_action\u001b[39m(\u001b[39mself\u001b[39m, x):\n\u001b[0;32m     <a href='vscode-notebook-cell:/d%3A/Documents/Computer%20Science/Year%203/Dissertation/Simulation/convTest.ipynb#ch0000001?line=59'>60</a>\u001b[0m     vectors\u001b[39m=\u001b[39m[(\u001b[39m1\u001b[39m,\u001b[39m1\u001b[39m),(\u001b[39m1\u001b[39m,\u001b[39m0\u001b[39m),(\u001b[39m0\u001b[39m,\u001b[39m1\u001b[39m),(\u001b[39m-\u001b[39m\u001b[39m1\u001b[39m,\u001b[39m-\u001b[39m\u001b[39m1\u001b[39m),(\u001b[39m-\u001b[39m\u001b[39m1\u001b[39m,\u001b[39m0\u001b[39m),(\u001b[39m0\u001b[39m,\u001b[39m-\u001b[39m\u001b[39m1\u001b[39m),(\u001b[39m-\u001b[39m\u001b[39m1\u001b[39m,\u001b[39m1\u001b[39m),(\u001b[39m1\u001b[39m,\u001b[39m-\u001b[39m\u001b[39m1\u001b[39m)] \u001b[39m#possible moves\u001b[39;00m\n\u001b[1;32m---> <a href='vscode-notebook-cell:/d%3A/Documents/Computer%20Science/Year%203/Dissertation/Simulation/convTest.ipynb#ch0000001?line=60'>61</a>\u001b[0m     arr\u001b[39m=\u001b[39m\u001b[39mlist\u001b[39m(\u001b[39mself\u001b[39;49m\u001b[39m.\u001b[39;49mforward(x)[\u001b[39m0\u001b[39m])\n\u001b[0;32m     <a href='vscode-notebook-cell:/d%3A/Documents/Computer%20Science/Year%203/Dissertation/Simulation/convTest.ipynb#ch0000001?line=61'>62</a>\u001b[0m     ind\u001b[39m=\u001b[39mnp\u001b[39m.\u001b[39margmax(arr)\n\u001b[0;32m     <a href='vscode-notebook-cell:/d%3A/Documents/Computer%20Science/Year%203/Dissertation/Simulation/convTest.ipynb#ch0000001?line=62'>63</a>\u001b[0m     \u001b[39mreturn\u001b[39;00m vectors[ind]\n",
      "\u001b[1;32md:\\Documents\\Computer Science\\Year 3\\Dissertation\\Simulation\\convTest.ipynb Cell 2'\u001b[0m in \u001b[0;36mAgent_Conv.forward\u001b[1;34m(self, x)\u001b[0m\n\u001b[0;32m     <a href='vscode-notebook-cell:/d%3A/Documents/Computer%20Science/Year%203/Dissertation/Simulation/convTest.ipynb#ch0000001?line=43'>44</a>\u001b[0m m\u001b[39m=\u001b[39mtorch\u001b[39m.\u001b[39mnn\u001b[39m.\u001b[39mConv2d(\u001b[39m1\u001b[39m, \u001b[39m5\u001b[39m, \u001b[39m1\u001b[39m, stride\u001b[39m=\u001b[39m\u001b[39m2\u001b[39m, padding\u001b[39m=\u001b[39m\u001b[39m3\u001b[39m, bias\u001b[39m=\u001b[39m\u001b[39mFalse\u001b[39;00m)\n\u001b[0;32m     <a href='vscode-notebook-cell:/d%3A/Documents/Computer%20Science/Year%203/Dissertation/Simulation/convTest.ipynb#ch0000001?line=44'>45</a>\u001b[0m x\u001b[39m=\u001b[39mx[np\u001b[39m.\u001b[39mnewaxis, :, :, np\u001b[39m.\u001b[39mnewaxis]\n\u001b[1;32m---> <a href='vscode-notebook-cell:/d%3A/Documents/Computer%20Science/Year%203/Dissertation/Simulation/convTest.ipynb#ch0000001?line=46'>47</a>\u001b[0m x\u001b[39m=\u001b[39mm(torch\u001b[39m.\u001b[39;49mtensor(x)\u001b[39m.\u001b[39;49mfloat())\n\u001b[0;32m     <a href='vscode-notebook-cell:/d%3A/Documents/Computer%20Science/Year%203/Dissertation/Simulation/convTest.ipynb#ch0000001?line=47'>48</a>\u001b[0m H\u001b[39m=\u001b[39m\u001b[39mlen\u001b[39m(x)\n\u001b[0;32m     <a href='vscode-notebook-cell:/d%3A/Documents/Computer%20Science/Year%203/Dissertation/Simulation/convTest.ipynb#ch0000001?line=48'>49</a>\u001b[0m x\u001b[39m=\u001b[39mx\u001b[39m.\u001b[39mflatten()\n",
      "File \u001b[1;32mD:\\Software\\PythonSoftwareFoundation.Python.3.8_qbz5n2kfra8p0\\LocalCache\\local-packages\\Python38\\site-packages\\torch\\nn\\modules\\module.py:550\u001b[0m, in \u001b[0;36mModule.__call__\u001b[1;34m(self, *input, **kwargs)\u001b[0m\n\u001b[0;32m    <a href='file:///d%3A/Software/PythonSoftwareFoundation.Python.3.8_qbz5n2kfra8p0/LocalCache/local-packages/Python38/site-packages/torch/nn/modules/module.py?line=547'>548</a>\u001b[0m     result \u001b[39m=\u001b[39m \u001b[39mself\u001b[39m\u001b[39m.\u001b[39m_slow_forward(\u001b[39m*\u001b[39m\u001b[39minput\u001b[39m, \u001b[39m*\u001b[39m\u001b[39m*\u001b[39mkwargs)\n\u001b[0;32m    <a href='file:///d%3A/Software/PythonSoftwareFoundation.Python.3.8_qbz5n2kfra8p0/LocalCache/local-packages/Python38/site-packages/torch/nn/modules/module.py?line=548'>549</a>\u001b[0m \u001b[39melse\u001b[39;00m:\n\u001b[1;32m--> <a href='file:///d%3A/Software/PythonSoftwareFoundation.Python.3.8_qbz5n2kfra8p0/LocalCache/local-packages/Python38/site-packages/torch/nn/modules/module.py?line=549'>550</a>\u001b[0m     result \u001b[39m=\u001b[39m \u001b[39mself\u001b[39;49m\u001b[39m.\u001b[39;49mforward(\u001b[39m*\u001b[39;49m\u001b[39minput\u001b[39;49m, \u001b[39m*\u001b[39;49m\u001b[39m*\u001b[39;49mkwargs)\n\u001b[0;32m    <a href='file:///d%3A/Software/PythonSoftwareFoundation.Python.3.8_qbz5n2kfra8p0/LocalCache/local-packages/Python38/site-packages/torch/nn/modules/module.py?line=550'>551</a>\u001b[0m \u001b[39mfor\u001b[39;00m hook \u001b[39min\u001b[39;00m \u001b[39mself\u001b[39m\u001b[39m.\u001b[39m_forward_hooks\u001b[39m.\u001b[39mvalues():\n\u001b[0;32m    <a href='file:///d%3A/Software/PythonSoftwareFoundation.Python.3.8_qbz5n2kfra8p0/LocalCache/local-packages/Python38/site-packages/torch/nn/modules/module.py?line=551'>552</a>\u001b[0m     hook_result \u001b[39m=\u001b[39m hook(\u001b[39mself\u001b[39m, \u001b[39minput\u001b[39m, result)\n",
      "File \u001b[1;32mD:\\Software\\PythonSoftwareFoundation.Python.3.8_qbz5n2kfra8p0\\LocalCache\\local-packages\\Python38\\site-packages\\torch\\nn\\modules\\conv.py:349\u001b[0m, in \u001b[0;36mConv2d.forward\u001b[1;34m(self, input)\u001b[0m\n\u001b[0;32m    <a href='file:///d%3A/Software/PythonSoftwareFoundation.Python.3.8_qbz5n2kfra8p0/LocalCache/local-packages/Python38/site-packages/torch/nn/modules/conv.py?line=347'>348</a>\u001b[0m \u001b[39mdef\u001b[39;00m \u001b[39mforward\u001b[39m(\u001b[39mself\u001b[39m, \u001b[39minput\u001b[39m):\n\u001b[1;32m--> <a href='file:///d%3A/Software/PythonSoftwareFoundation.Python.3.8_qbz5n2kfra8p0/LocalCache/local-packages/Python38/site-packages/torch/nn/modules/conv.py?line=348'>349</a>\u001b[0m     \u001b[39mreturn\u001b[39;00m \u001b[39mself\u001b[39;49m\u001b[39m.\u001b[39;49m_conv_forward(\u001b[39minput\u001b[39;49m, \u001b[39mself\u001b[39;49m\u001b[39m.\u001b[39;49mweight)\n",
      "File \u001b[1;32mD:\\Software\\PythonSoftwareFoundation.Python.3.8_qbz5n2kfra8p0\\LocalCache\\local-packages\\Python38\\site-packages\\torch\\nn\\modules\\conv.py:345\u001b[0m, in \u001b[0;36mConv2d._conv_forward\u001b[1;34m(self, input, weight)\u001b[0m\n\u001b[0;32m    <a href='file:///d%3A/Software/PythonSoftwareFoundation.Python.3.8_qbz5n2kfra8p0/LocalCache/local-packages/Python38/site-packages/torch/nn/modules/conv.py?line=340'>341</a>\u001b[0m \u001b[39mif\u001b[39;00m \u001b[39mself\u001b[39m\u001b[39m.\u001b[39mpadding_mode \u001b[39m!=\u001b[39m \u001b[39m'\u001b[39m\u001b[39mzeros\u001b[39m\u001b[39m'\u001b[39m:\n\u001b[0;32m    <a href='file:///d%3A/Software/PythonSoftwareFoundation.Python.3.8_qbz5n2kfra8p0/LocalCache/local-packages/Python38/site-packages/torch/nn/modules/conv.py?line=341'>342</a>\u001b[0m     \u001b[39mreturn\u001b[39;00m F\u001b[39m.\u001b[39mconv2d(F\u001b[39m.\u001b[39mpad(\u001b[39minput\u001b[39m, \u001b[39mself\u001b[39m\u001b[39m.\u001b[39m_padding_repeated_twice, mode\u001b[39m=\u001b[39m\u001b[39mself\u001b[39m\u001b[39m.\u001b[39mpadding_mode),\n\u001b[0;32m    <a href='file:///d%3A/Software/PythonSoftwareFoundation.Python.3.8_qbz5n2kfra8p0/LocalCache/local-packages/Python38/site-packages/torch/nn/modules/conv.py?line=342'>343</a>\u001b[0m                     weight, \u001b[39mself\u001b[39m\u001b[39m.\u001b[39mbias, \u001b[39mself\u001b[39m\u001b[39m.\u001b[39mstride,\n\u001b[0;32m    <a href='file:///d%3A/Software/PythonSoftwareFoundation.Python.3.8_qbz5n2kfra8p0/LocalCache/local-packages/Python38/site-packages/torch/nn/modules/conv.py?line=343'>344</a>\u001b[0m                     _pair(\u001b[39m0\u001b[39m), \u001b[39mself\u001b[39m\u001b[39m.\u001b[39mdilation, \u001b[39mself\u001b[39m\u001b[39m.\u001b[39mgroups)\n\u001b[1;32m--> <a href='file:///d%3A/Software/PythonSoftwareFoundation.Python.3.8_qbz5n2kfra8p0/LocalCache/local-packages/Python38/site-packages/torch/nn/modules/conv.py?line=344'>345</a>\u001b[0m \u001b[39mreturn\u001b[39;00m F\u001b[39m.\u001b[39;49mconv2d(\u001b[39minput\u001b[39;49m, weight, \u001b[39mself\u001b[39;49m\u001b[39m.\u001b[39;49mbias, \u001b[39mself\u001b[39;49m\u001b[39m.\u001b[39;49mstride,\n\u001b[0;32m    <a href='file:///d%3A/Software/PythonSoftwareFoundation.Python.3.8_qbz5n2kfra8p0/LocalCache/local-packages/Python38/site-packages/torch/nn/modules/conv.py?line=345'>346</a>\u001b[0m                 \u001b[39mself\u001b[39;49m\u001b[39m.\u001b[39;49mpadding, \u001b[39mself\u001b[39;49m\u001b[39m.\u001b[39;49mdilation, \u001b[39mself\u001b[39;49m\u001b[39m.\u001b[39;49mgroups)\n",
      "\u001b[1;31mRuntimeError\u001b[0m: Given groups=1, weight of size [5, 1, 1, 1], expected input[1, 5, 5, 1] to have 1 channels, but got 5 channels instead"
     ]
    }
   ],
   "source": [
    "whegBot=Agent_Conv(5*5,[10,10],10) #define the agent\n",
    "\n",
    "\n",
    "input_=np.random.rand(5,5)\n",
    "output_=np.random.rand(10)\n",
    "\n",
    "whegBot.set_genes(np.random.normal(0, 0.5, (whegBot.num_genes)))\n",
    "print(input_)\n",
    "\n",
    "whegBot.get_action(input_)"
   ]
  }
 ],
 "metadata": {
  "interpreter": {
   "hash": "a4dd024378a2eab6b61421bb2db15dae0e0d8b99b3e2b4f86d231a4685d0f22e"
  },
  "kernelspec": {
   "display_name": "Python 3.8.10 64-bit (windows store)",
   "language": "python",
   "name": "python3"
  },
  "language_info": {
   "codemirror_mode": {
    "name": "ipython",
    "version": 3
   },
   "file_extension": ".py",
   "mimetype": "text/x-python",
   "name": "python",
   "nbconvert_exporter": "python",
   "pygments_lexer": "ipython3",
   "version": "3.8.10"
  },
  "orig_nbformat": 4
 },
 "nbformat": 4,
 "nbformat_minor": 2
}
