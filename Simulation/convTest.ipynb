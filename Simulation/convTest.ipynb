{
 "cells": [
  {
   "cell_type": "code",
   "execution_count": 127,
   "metadata": {},
   "outputs": [],
   "source": [
    "import matplotlib.pyplot as plt\n",
    "import math\n",
    "import time\n",
    "import random\n",
    "import copy\n",
    "\n",
    "import numpy as np\n",
    "import copy\n",
    "import torch\n",
    "from scipy import signal\n",
    "from scipy import misc"
   ]
  },
  {
   "cell_type": "code",
   "execution_count": 156,
   "metadata": {},
   "outputs": [],
   "source": [
    "class Agent_Conv:\n",
    "    def __init__(self, num_input, layers, num_output):\n",
    "        assert type(layers)==type([]), \"Error with layers, give array of the number of layers\"\n",
    "        self.num_input = num_input  #set input number\n",
    "        self.num_output = num_output #set ooutput number\n",
    "        self.hidden=[]\n",
    "        last=num_input\n",
    "        self.num_genes=0\n",
    "        for layer in layers:\n",
    "            self.hidden.append(layer)\n",
    "            self.num_genes+=(last * layer)\n",
    "            last=layer\n",
    "        self.num_genes +=(self.hidden[-1]*num_output)+num_output\n",
    "        self.weights = None\n",
    "        self.hidden_weights=None\n",
    "        self.bias = None\n",
    "        print(\"Auto\",self.num_genes)\n",
    "    def set_genes(self, gene):\n",
    "        weight_idxs = self.num_input * self.hidden[0] #size of weights to hidden\n",
    "        current=weight_idxs\n",
    "        weights_idxs=[current] #start with end of last\n",
    "        for i in range(len(self.hidden)-1):\n",
    "            current+=self.hidden[i]*self.hidden[i+1] #calculate next idx for each layer\n",
    "            weights_idxs.append(current)\n",
    "        bias_idxs=None\n",
    "        weights_idxs.append(self.hidden[-1] * self.num_output + weights_idxs[-1]) #add last layer heading to output\n",
    "        bias_idxs = weights_idxs[-1]+ self.num_output #sizes of biases\n",
    "        w = gene[0 : weight_idxs].reshape(self.hidden[0], self.num_input)   #merge genes\n",
    "        ws=[]\n",
    "        for i in range(len(self.hidden)-1):\n",
    "            ws.append(gene[weights_idxs[i] : weights_idxs[i+1]].reshape(self.hidden[i+1], self.hidden[i]))\n",
    "        ws.append(gene[weights_idxs[-2] : weights_idxs[-1]].reshape(self.num_output, self.hidden[-1]))\n",
    "        b = gene[weights_idxs[-1]: bias_idxs].reshape(self.num_output,) #merge genes\n",
    "\n",
    "        self.weights = torch.from_numpy(w) #assign weights\n",
    "        self.hidden_weights=[]\n",
    "        for w in ws:\n",
    "            self.hidden_weights.append(torch.from_numpy(w))\n",
    "        self.bias = torch.from_numpy(b) #assign biases\n",
    "\n",
    "    def forward(self, x):\n",
    "        #create conv layer\n",
    "        scharr = np.array([[ -3-3, 0-10,  +3 -3],\n",
    "                   [-10+0, 0+ 0, +10 +0],\n",
    "                   [ -3+3, 0+10,  +3 +3]]) # Gx + j*Gy\n",
    "        x= signal.convolve2d(x, scharr, boundary='symm', mode='same')   \n",
    "        x=x.flatten()\n",
    "        x=x[:,np.newaxis]      \n",
    "        x = torch.tensor(np.dot(self.weights.float(),x).flatten()).float()\n",
    "        #run through forward layers\n",
    "        x=x[:,np.newaxis]\n",
    "        for i in range(len(self.hidden_weights)-1):\n",
    "            x = torch.mm(x.T,self.hidden_weights[i].T.float()) #second layer\n",
    "        return torch.mm(x,self.hidden_weights[-1].T.float()) + self.bias #third layer\n",
    "    \n",
    "    def get_action(self, x):\n",
    "        vectors=[(1,1),(1,0),(0,1),(-1,-1),(-1,0),(0,-1),(-1,1),(1,-1)] #possible moves\n",
    "        arr=list(self.forward(x)[0])\n",
    "        ind=np.argmax(arr)\n",
    "        return vectors[ind]"
   ]
  },
  {
   "cell_type": "code",
   "execution_count": null,
   "metadata": {},
   "outputs": [],
   "source": [
    "from scipy import signal\n",
    "from scipy import misc\n",
    "ascent = misc.ascent()\n",
    "scharr = np.array([[ -3-3, 0-10,  +3 -3],\n",
    "                   [-10+0, 0+ 0, +10 +0],\n",
    "                   [ -3+3, 0+10,  +3 +3]]) # Gx + j*Gy\n",
    "ascent=np.random.rand(5,5)\n",
    "grad = signal.convolve2d(ascent, scharr, boundary='symm', mode='same')\n",
    "grad"
   ]
  },
  {
   "cell_type": "code",
   "execution_count": 160,
   "metadata": {},
   "outputs": [
    {
     "name": "stdout",
     "output_type": "stream",
     "text": [
      "Auto 460\n",
      "[[0.6407363  0.82055014 0.82814506 0.15915161 0.59689979]\n",
      " [0.19818143 0.91646541 0.45992971 0.34093896 0.3269904 ]\n",
      " [0.4780956  0.84146013 0.26159009 0.88285173 0.16603833]\n",
      " [0.39397358 0.41748906 0.10699987 0.90084984 0.82119487]\n",
      " [0.86843626 0.73591188 0.85115252 0.43951189 0.32143432]]\n"
     ]
    },
    {
     "data": {
      "text/plain": [
       "(0, 1)"
      ]
     },
     "execution_count": 160,
     "metadata": {},
     "output_type": "execute_result"
    }
   ],
   "source": [
    "whegBot=Agent_Conv(5*5,[10,10],10) #define the agent\n",
    "\n",
    "\n",
    "input_=np.random.rand(5,5)\n",
    "output_=np.random.rand(10)\n",
    "\n",
    "whegBot.set_genes(np.random.normal(0, 0.5, (whegBot.num_genes)))\n",
    "print(input_)\n",
    "\n",
    "whegBot.get_action(input_)"
   ]
  }
 ],
 "metadata": {
  "interpreter": {
   "hash": "a4dd024378a2eab6b61421bb2db15dae0e0d8b99b3e2b4f86d231a4685d0f22e"
  },
  "kernelspec": {
   "display_name": "Python 3.8.10 64-bit (windows store)",
   "language": "python",
   "name": "python3"
  },
  "language_info": {
   "codemirror_mode": {
    "name": "ipython",
    "version": 3
   },
   "file_extension": ".py",
   "mimetype": "text/x-python",
   "name": "python",
   "nbconvert_exporter": "python",
   "pygments_lexer": "ipython3",
   "version": "3.8.10"
  },
  "orig_nbformat": 4
 },
 "nbformat": 4,
 "nbformat_minor": 2
}
